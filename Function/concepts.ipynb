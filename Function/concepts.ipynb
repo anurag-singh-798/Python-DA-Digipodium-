{
 "cells": [
  {
   "cell_type": "code",
   "execution_count": null,
   "metadata": {},
   "outputs": [],
   "source": [
    "def si():\n",
    "    p = int(input('Pricipal: '))\n",
    "    r = float(input('Rate: '))\n",
    "    t = int(input('Time: '))\n",
    "    si = (p*r*t)/100\n",
    "    print('Simple Interest: ',si)"
   ]
  }
 ],
 "metadata": {
  "language_info": {
   "name": "python"
  },
  "orig_nbformat": 4
 },
 "nbformat": 4,
 "nbformat_minor": 2
}

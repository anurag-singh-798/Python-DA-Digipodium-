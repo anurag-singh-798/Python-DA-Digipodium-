{
 "cells": [
  {
   "cell_type": "code",
   "execution_count": null,
   "metadata": {},
   "outputs": [],
   "source": []
  },
  {
   "cell_type": "markdown",
   "metadata": {},
   "source": [
    "# condition\n",
    "1. if\n",
    "2. if else\n",
    "3. if elif else\n",
    "4. nested if\n",
    "5. match case (only works on py 3.10)"
   ]
  },
  {
   "cell_type": "code",
   "execution_count": 1,
   "metadata": {},
   "outputs": [],
   "source": [
    "if 5 > 10:\n",
    "    print('5 is greater than 10')"
   ]
  },
  {
   "cell_type": "code",
   "execution_count": 4,
   "metadata": {},
   "outputs": [
    {
     "name": "stdout",
     "output_type": "stream",
     "text": [
      "this is great\n",
      "10 is greater than 20\n"
     ]
    }
   ],
   "source": [
    "a = 10\n",
    "b = 20 \n",
    "if a < b:\n",
    "    print('this is great')\n",
    "    print(f'{a} is greater than {b}')"
   ]
  },
  {
   "cell_type": "markdown",
   "metadata": {},
   "source": [
    "syntax\n",
    "\n",
    "```\n",
    "if condtion:\n",
    "    statement\n",
    "```"
   ]
  },
  {
   "cell_type": "code",
   "execution_count": 14,
   "metadata": {},
   "outputs": [],
   "source": [
    "data = input(\"enter a data : \")\n",
    "if data.isalpha():\n",
    "    print(\"this is a string\")\n",
    "if data.isnumeric():\n",
    "    print(\"this is a number\")\n",
    "if data.isspace():\n",
    "    print(\"this is a space\")"
   ]
  },
  {
   "cell_type": "code",
   "execution_count": 17,
   "metadata": {},
   "outputs": [
    {
     "name": "stdout",
     "output_type": "stream",
     "text": [
      "it's cool\n"
     ]
    }
   ],
   "source": [
    "temp = 3\n",
    "if temp > 25:\n",
    "    print(\"it's hot\")\n",
    "else:\n",
    "    print(\"it's cool\")"
   ]
  },
  {
   "cell_type": "code",
   "execution_count": 22,
   "metadata": {},
   "outputs": [
    {
     "name": "stdout",
     "output_type": "stream",
     "text": [
      "mango is the king of fruits\n"
     ]
    }
   ],
   "source": [
    "fruit = input(\"what fruit do you like?\")\n",
    "if fruit == 'apple':\n",
    "    print(\"An apple a day keeps the doctor away\")\n",
    "elif fruit == 'mango':\n",
    "    print('mango is the king of fruits')\n",
    "elif fruit == 'orange':\n",
    "    print('orange is good source of vitamin C')\n",
    "else:\n",
    "    print(\"not found\")\n"
   ]
  },
  {
   "cell_type": "code",
   "execution_count": 25,
   "metadata": {},
   "outputs": [
    {
     "name": "stdout",
     "output_type": "stream",
     "text": [
      "welcome sam\n"
     ]
    }
   ],
   "source": [
    "username = input(\"Enter your username : \")\n",
    "password = input('Enter your password : ')\n",
    "if username == 'sam':\n",
    "    if password == '123':\n",
    "        print('welcome sam')\n",
    "    else:\n",
    "        print('wrong pass')\n",
    "else:\n",
    "    print('wrong username')\n"
   ]
  },
  {
   "cell_type": "code",
   "execution_count": 28,
   "metadata": {},
   "outputs": [
    {
     "name": "stdout",
     "output_type": "stream",
     "text": [
      "wrong username or password\n"
     ]
    }
   ],
   "source": [
    "# this can be written as \n",
    "username = input(\"Enter your username : \")\n",
    "password = input('Enter your password : ')\n",
    "if username == 'sam' and password == '123':\n",
    "    print(\"welcome sam\")\n",
    "else:\n",
    "    print(\"wrong username or password\")"
   ]
  },
  {
   "cell_type": "markdown",
   "metadata": {},
   "source": [
    "Wap to calculate the employee total salary based on following conditions\n",
    "1. if basic salary is less than 10000 then hra is 10% of basic salary & da is 90% of basic salary\n",
    "2. if basic salary is greater than 10000 then hra is 20% of basic salary & da is 80% of basic salary\n",
    "3. if basic salary is less than 20000 then hra is 25% of basic salary & da is 75% of basic salary"
   ]
  },
  {
   "cell_type": "code",
   "execution_count": 2,
   "metadata": {},
   "outputs": [
    {
     "name": "stdout",
     "output_type": "stream",
     "text": [
      "Basic_sal : 15000.0 \n",
      " Hra : 3000.0 \n",
      " Da : 12000.0\n",
      "total : 30000.0\n"
     ]
    }
   ],
   "source": [
    "basic_sal = float(input('Enter basic sal : '))\n",
    "\n",
    "if basic_sal < 10000:\n",
    "    hra = basic_sal * 10/100\n",
    "    da = basic_sal * 90/100\n",
    "\n",
    "elif basic_sal > 20000:\n",
    "    hra = basic_sal * 25/100\n",
    "    da = basic_sal * 75/100\n",
    "\n",
    "elif basic_sal > 10000: \n",
    "    hra = basic_sal * 20/100\n",
    "    da = basic_sal * 80/100\n",
    "total = basic_sal + hra + da\n",
    "print(f'Basic_sal : {basic_sal} \\n Hra : {hra} \\n Da : {da}')\n",
    "print(f'total : {total}')\n",
    " # use greater value condition first"
   ]
  },
  {
   "cell_type": "code",
   "execution_count": 1,
   "metadata": {},
   "outputs": [
    {
     "name": "stdout",
     "output_type": "stream",
     "text": [
      "vanilla = 150\n"
     ]
    }
   ],
   "source": [
    "icecream = input(\"enter icecream name : \")\n",
    "\n",
    "match(icecream):\n",
    "    case \"chocolate\":\n",
    "        print(\"chocolate = 200\") \n",
    "    case \"vanilla\":\n",
    "        print(\"vanilla = 150\")\n",
    "    case \"strawberry\":\n",
    "        print(\"strawberry = 100\")\n",
    "    case _:\n",
    "        print(\"not availabe\")\n"
   ]
  },
  {
   "cell_type": "code",
   "execution_count": null,
   "metadata": {},
   "outputs": [],
   "source": []
  }
 ],
 "metadata": {
  "kernelspec": {
   "display_name": "Python 3.10.6 ('py310')",
   "language": "python",
   "name": "python3"
  },
  "language_info": {
   "codemirror_mode": {
    "name": "ipython",
    "version": 3
   },
   "file_extension": ".py",
   "mimetype": "text/x-python",
   "name": "python",
   "nbconvert_exporter": "python",
   "pygments_lexer": "ipython3",
   "version": "3.10.6"
  },
  "orig_nbformat": 4,
  "vscode": {
   "interpreter": {
    "hash": "cf51ac970e033765f04eaa06b2d945d30ec4bd27f0fa0badbc17cd319e8357a7"
   }
  }
 },
 "nbformat": 4,
 "nbformat_minor": 2
}

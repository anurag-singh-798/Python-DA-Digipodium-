{
 "cells": [
  {
   "cell_type": "code",
   "execution_count": 1,
   "metadata": {},
   "outputs": [
    {
     "name": "stdout",
     "output_type": "stream",
     "text": [
      "1\n",
      "2\n",
      "3\n",
      "4\n",
      "5\n",
      "6\n",
      "7\n",
      "8\n",
      "9\n",
      "10\n",
      "11\n",
      "12\n",
      "13\n",
      "14\n",
      "15\n",
      "16\n",
      "17\n",
      "18\n",
      "19\n",
      "20\n",
      "21\n",
      "22\n",
      "23\n",
      "24\n",
      "25\n",
      "26\n",
      "27\n",
      "28\n",
      "29\n",
      "30\n"
     ]
    }
   ],
   "source": [
    "print(1)\n",
    "print(2)\n",
    "print(3)\n",
    "print(4)\n",
    "print(5)\n",
    "print(6)\n",
    "print(7)\n",
    "print(8)\n",
    "print(9)\n",
    "print(10)\n",
    "print(11)\n",
    "print(12)\n",
    "print(13)\n",
    "print(14)\n",
    "print(15)\n",
    "print(16)\n",
    "print(17)\n",
    "print(18)\n",
    "print(19)\n",
    "print(20)\n",
    "print(21)\n",
    "print(22)\n",
    "print(23)\n",
    "print(24)\n",
    "print(25)\n",
    "print(26)\n",
    "print(27)\n",
    "print(28)\n",
    "print(29)\n",
    "print(30)\n",
    "\n"
   ]
  },
  {
   "cell_type": "markdown",
   "metadata": {},
   "source": [
    "loops \n",
    "1. for - iteration,traversal,repeatation (if no. steps are known)\n",
    "2. while - user input, condition based (if no. steps unknown)"
   ]
  },
  {
   "cell_type": "code",
   "execution_count": 2,
   "metadata": {},
   "outputs": [
    {
     "name": "stdout",
     "output_type": "stream",
     "text": [
      "0\n",
      "2\n",
      "1\n",
      "3\n",
      "6\n",
      "10\n"
     ]
    }
   ],
   "source": [
    "# traversal (for every value checked)\n",
    "\n",
    "x = [0,2,1,3,6,10]\n",
    "for i in x:\n",
    "    print(i)"
   ]
  },
  {
   "cell_type": "code",
   "execution_count": 3,
   "metadata": {},
   "outputs": [
    {
     "name": "stdout",
     "output_type": "stream",
     "text": [
      "We got red\n",
      "We got blue\n",
      "We got green\n",
      "We got yellow\n"
     ]
    }
   ],
   "source": [
    "colors =['red','blue','green','yellow']\n",
    "for val in colors:\n",
    "    print(f'We got {val}')"
   ]
  },
  {
   "cell_type": "code",
   "execution_count": 6,
   "metadata": {},
   "outputs": [
    {
     "name": "stdout",
     "output_type": "stream",
     "text": [
      "1 😊 2 😊 3 😊 4 😊 5 😊 6 😊 7 😊 8 😊 9 😊 10 😊 11 😊 12 😊 13 😊 14 😊 15 😊 16 😊 17 😊 18 😊 19 😊 20 😊 21 😊 22 😊 23 😊 24 😊 25 😊 26 😊 27 😊 28 😊 29 😊 30 😊 "
     ]
    }
   ],
   "source": [
    "for i in range(1,31):               # end = \" \" use for not change line\n",
    "    print(i,end =\" 😊 \")            # (window + .) key use for emoji"
   ]
  },
  {
   "cell_type": "code",
   "execution_count": 9,
   "metadata": {},
   "outputs": [
    {
     "name": "stdout",
     "output_type": "stream",
     "text": [
      "2 x 1 = 2\n",
      "2 x 2 = 4\n",
      "2 x 3 = 6\n",
      "2 x 4 = 8\n",
      "2 x 5 = 10\n",
      "2 x 6 = 12\n",
      "2 x 7 = 14\n",
      "2 x 8 = 16\n",
      "2 x 9 = 18\n",
      "2 x 10 = 20\n"
     ]
    }
   ],
   "source": [
    "# disply a table of 2\n",
    "\n",
    "for i in range(1,11):\n",
    "    print(f'2 x {i} = {2 * i}')"
   ]
  },
  {
   "cell_type": "code",
   "execution_count": 1,
   "metadata": {},
   "outputs": [
    {
     "name": "stdout",
     "output_type": "stream",
     "text": [
      "1 😎 2 😎 3 😎 4 😎 5 😎 6 😎 7 😎 8 😎 9 😎 10 😎 11 😎 12 😎 13 😎 14 😎 15 😎 16 😎 17 😎 18 😎 19 😎 20 😎 21 😎 22 😎 23 😎 24 😎 25 😎 26 😎 27 😎 28 😎 29 😎 30 😎 31 😎 32 😎 33 😎 34 😎 35 😎 36 😎 37 😎 38 😎 39 😎 40 😎 41 😎 42 😎 43 😎 44 😎 45 😎 46 😎 47 😎 48 😎 49 😎 50 😎 51 😎 52 😎 53 😎 54 😎 55 😎 56 😎 57 😎 58 😎 59 😎 60 😎 61 😎 62 😎 63 😎 64 😎 65 😎 66 😎 67 😎 68 😎 69 😎 70 😎 71 😎 72 😎 73 😎 74 😎 75 😎 76 😎 77 😎 78 😎 79 😎 80 😎 81 😎 82 😎 83 😎 84 😎 85 😎 86 😎 87 😎 88 😎 89 😎 90 😎 91 😎 92 😎 93 😎 94 😎 95 😎 96 😎 97 😎 98 😎 99 😎 100 😎 101 😎 102 😎 103 😎 104 😎 105 😎 106 😎 107 😎 108 😎 109 😎 110 😎 111 😎 112 😎 113 😎 114 😎 115 😎 116 😎 117 😎 118 😎 119 😎 120 😎 121 😎 122 😎 123 😎 124 😎 125 😎 126 😎 127 😎 128 😎 129 😎 130 😎 131 😎 132 😎 133 😎 134 😎 135 😎 136 😎 137 😎 138 😎 139 😎 140 😎 141 😎 142 😎 143 😎 144 😎 145 😎 146 😎 147 😎 148 😎 149 😎 150 😎 151 😎 152 😎 153 😎 154 😎 155 😎 156 😎 157 😎 158 😎 159 😎 160 😎 161 😎 162 😎 163 😎 164 😎 165 😎 166 😎 167 😎 168 😎 169 😎 170 😎 171 😎 172 😎 173 😎 174 😎 175 😎 176 😎 177 😎 178 😎 179 😎 180 😎 181 😎 182 😎 183 😎 184 😎 185 😎 186 😎 187 😎 188 😎 189 😎 190 😎 191 😎 192 😎 193 😎 194 😎 195 😎 196 😎 197 😎 198 😎 199 😎 "
     ]
    }
   ],
   "source": [
    "for i in range(1,200):\n",
    "    print(i, end = \" 😎 \")"
   ]
  },
  {
   "cell_type": "code",
   "execution_count": 1,
   "metadata": {},
   "outputs": [
    {
     "name": "stdout",
     "output_type": "stream",
     "text": [
      "10 9 8 7 6 5 4 3 2 1 "
     ]
    }
   ],
   "source": [
    "#reverse loop\n",
    "\n",
    "for i in range(10,0,-1):\n",
    "    print(i,end=' ')"
   ]
  },
  {
   "cell_type": "code",
   "execution_count": 2,
   "metadata": {},
   "outputs": [
    {
     "name": "stdout",
     "output_type": "stream",
     "text": [
      "potato\n",
      "tomato\n",
      "onion\n",
      "cabbage\n",
      "carrot\n"
     ]
    }
   ],
   "source": [
    "veg = ['potato','tomato','onion','cabbage','carrot']\n",
    "for item in veg:\n",
    "    print(item)"
   ]
  },
  {
   "cell_type": "code",
   "execution_count": 3,
   "metadata": {},
   "outputs": [
    {
     "name": "stdout",
     "output_type": "stream",
     "text": [
      "(0, 'potato')\n",
      "(1, 'tomato')\n",
      "(2, 'onion')\n",
      "(3, 'cabbage')\n",
      "(4, 'carrot')\n"
     ]
    }
   ],
   "source": [
    "for item in enumerate(veg):      #enumerate use for 2 value =index,value\n",
    "    print(item)"
   ]
  },
  {
   "cell_type": "code",
   "execution_count": 4,
   "metadata": {},
   "outputs": [
    {
     "name": "stdout",
     "output_type": "stream",
     "text": [
      "0 got potato\n",
      "1 got tomato\n",
      "2 got onion\n",
      "3 got cabbage\n",
      "4 got carrot\n"
     ]
    }
   ],
   "source": [
    "for index,value in enumerate(veg):      #correct version of enumerate\n",
    "    print(index,'got',value)"
   ]
  },
  {
   "cell_type": "markdown",
   "metadata": {},
   "source": [
    "zip"
   ]
  },
  {
   "cell_type": "code",
   "execution_count": 10,
   "metadata": {},
   "outputs": [],
   "source": [
    "veg = ['potato🥔','tomato🍅','onion🧅','cabbage🥬','carrot🥕']\n",
    "prices = [35,80,30,15,30]"
   ]
  },
  {
   "cell_type": "code",
   "execution_count": 12,
   "metadata": {},
   "outputs": [
    {
     "name": "stdout",
     "output_type": "stream",
     "text": [
      "potato🥔 --------- 💵 35\n",
      "tomato🍅 --------- 💵 80\n",
      "onion🧅 --------- 💵 30\n",
      "cabbage🥬 --------- 💵 15\n",
      "carrot🥕 --------- 💵 30\n"
     ]
    }
   ],
   "source": [
    "for i in range(len(veg)):                   #non pythonic way\n",
    "    print(f'{veg[i]} --------- 💵 {prices[i]}')"
   ]
  },
  {
   "cell_type": "code",
   "execution_count": 13,
   "metadata": {},
   "outputs": [
    {
     "name": "stdout",
     "output_type": "stream",
     "text": [
      "potato🥔 ----------💵 35\n",
      "tomato🍅 ----------💵 80\n",
      "onion🧅 ----------💵 30\n",
      "cabbage🥬 ----------💵 15\n",
      "carrot🥕 ----------💵 30\n"
     ]
    }
   ],
   "source": [
    "for v,p in zip(veg,prices):               #pythonic\n",
    "    print(f'{v} ----------💵 {p}')"
   ]
  },
  {
   "cell_type": "markdown",
   "metadata": {},
   "source": [
    "# wap to print the following lists using zip\n",
    "- list1 contains movie title\n",
    "- list2 contains movie rating\n",
    "- list3 contins movie year\n",
    "- list4 contains movie director"
   ]
  },
  {
   "cell_type": "code",
   "execution_count": 14,
   "metadata": {},
   "outputs": [
    {
     "name": "stdout",
     "output_type": "stream",
     "text": [
      "tiger -- 4 -- 2012 -- kabir khan\n",
      "bharat -- 5 -- 2021 -- ali abbas\n",
      "pk -- 4.2 -- 2020 -- rajkumar hirani\n",
      "dhoom -- 4.5 -- 2018 -- sanjay gadhvi\n",
      "dhoom2 -- 4.3 -- 2022 -- sanjay\n"
     ]
    }
   ],
   "source": [
    "title = ['tiger','bharat','pk','dhoom','dhoom2']\n",
    "rating = [4,5,4.2,4.5,4.3]\n",
    "year = [2012,2021,2020,2018,2022]\n",
    "director = ['kabir khan','ali abbas','rajkumar hirani','sanjay gadhvi','sanjay']\n",
    "\n",
    "for t,r,y,d in zip(title,rating,year,director):\n",
    "    print(f'{t} -- {r} -- {y} -- {d}')"
   ]
  },
  {
   "cell_type": "code",
   "execution_count": 16,
   "metadata": {},
   "outputs": [
    {
     "name": "stdout",
     "output_type": "stream",
     "text": [
      "0 1 2 3 4 5 6 7 8 9 \n",
      "0 1 2 3 4 5 6 7 8 9 \n",
      "0 1 2 3 4 5 6 7 8 9 \n",
      "0 1 2 3 4 5 6 7 8 9 \n",
      "0 1 2 3 4 5 6 7 8 9 \n",
      "0 1 2 3 4 5 6 7 8 9 \n",
      "0 1 2 3 4 5 6 7 8 9 \n",
      "0 1 2 3 4 5 6 7 8 9 \n",
      "0 1 2 3 4 5 6 7 8 9 \n",
      "0 1 2 3 4 5 6 7 8 9 \n"
     ]
    }
   ],
   "source": [
    "for i in range(10):\n",
    "    for i in range(10):\n",
    "        print(i, end=' ')\n",
    "    print()"
   ]
  },
  {
   "cell_type": "markdown",
   "metadata": {},
   "source": [
    "break and continue"
   ]
  },
  {
   "cell_type": "code",
   "execution_count": 20,
   "metadata": {},
   "outputs": [
    {
     "name": "stdout",
     "output_type": "stream",
     "text": [
      "1\n",
      "2\n",
      "3\n",
      "4\n"
     ]
    }
   ],
   "source": [
    "x = [1, 2, 3, 4, 0, 0, 5]\n",
    "for i in x:\n",
    "    if i == 0:\n",
    "        break\n",
    "    print(i)"
   ]
  },
  {
   "cell_type": "code",
   "execution_count": 21,
   "metadata": {},
   "outputs": [
    {
     "name": "stdout",
     "output_type": "stream",
     "text": [
      "1\n",
      "2\n",
      "3\n",
      "4\n",
      "5\n"
     ]
    }
   ],
   "source": [
    "x = [1, 2, 0, 3, 4, 0, 0, 5]\n",
    "for i in x:\n",
    "    if i == 0:\n",
    "        continue\n",
    "    print(i)"
   ]
  },
  {
   "cell_type": "code",
   "execution_count": 22,
   "metadata": {},
   "outputs": [
    {
     "name": "stdout",
     "output_type": "stream",
     "text": [
      "1\n",
      "2\n",
      "3\n",
      "4\n",
      "5\n"
     ]
    }
   ],
   "source": [
    "x = [1, 2, 0, 3, 4, 0, 0, 5]\n",
    "for i in x:\n",
    "    if i != 0:\n",
    "        print(i)"
   ]
  },
  {
   "cell_type": "code",
   "execution_count": 29,
   "metadata": {},
   "outputs": [
    {
     "name": "stdout",
     "output_type": "stream",
     "text": [
      "not prime\n"
     ]
    }
   ],
   "source": [
    "n = int(input('enter number : '))\n",
    "for i in range(2,n):\n",
    "    if n % i == 0:\n",
    "        print('not prime')\n",
    "        break\n",
    "else:\n",
    "    print('prime')"
   ]
  },
  {
   "cell_type": "code",
   "execution_count": 32,
   "metadata": {},
   "outputs": [
    {
     "name": "stdout",
     "output_type": "stream",
     "text": [
      "2 3 5 7 11 13 17 19 23 29 31 37 41 43 47 53 59 61 67 71 73 79 83 89 97 "
     ]
    }
   ],
   "source": [
    "for num in range(1,100):\n",
    "    if num == 1:\n",
    "        continue\n",
    "    for i in range(2,num):\n",
    "        if num % i == 0:\n",
    "            break\n",
    "    else:\n",
    "        print(num, end=' ')"
   ]
  },
  {
   "cell_type": "code",
   "execution_count": 33,
   "metadata": {},
   "outputs": [
    {
     "name": "stdout",
     "output_type": "stream",
     "text": [
      "0\n",
      "1\n",
      "2\n"
     ]
    }
   ],
   "source": [
    "for i in range(5):\n",
    "    if i == 3:\n",
    "        break\n",
    "    print(i)\n",
    "else:\n",
    "    print('done')"
   ]
  },
  {
   "cell_type": "code",
   "execution_count": 34,
   "metadata": {},
   "outputs": [
    {
     "name": "stdout",
     "output_type": "stream",
     "text": [
      "10\n",
      "8\n",
      "6\n",
      "4\n",
      "2\n"
     ]
    }
   ],
   "source": [
    "x = 10\n",
    "while x > 0:\n",
    "    print(x)\n",
    "    x -= 2"
   ]
  },
  {
   "cell_type": "code",
   "execution_count": 36,
   "metadata": {},
   "outputs": [
    {
     "name": "stdout",
     "output_type": "stream",
     "text": [
      "8\n",
      "6\n",
      "4\n",
      "2\n",
      "0\n"
     ]
    }
   ],
   "source": [
    "x = 10\n",
    "while x > 0:\n",
    "    x -= 2\n",
    "    print(x)"
   ]
  },
  {
   "cell_type": "code",
   "execution_count": 39,
   "metadata": {},
   "outputs": [
    {
     "name": "stdout",
     "output_type": "stream",
     "text": [
      "Total is 60\n"
     ]
    }
   ],
   "source": [
    "total = 0\n",
    "while True:\n",
    "    num = int(input('enter a number : '))\n",
    "    if num == 0:\n",
    "        break\n",
    "    total += num\n",
    "print(f'Total is {total}')"
   ]
  },
  {
   "cell_type": "code",
   "execution_count": 40,
   "metadata": {},
   "outputs": [
    {
     "name": "stdout",
     "output_type": "stream",
     "text": [
      "These are your books\n",
      "['ab', 'abc', 'abcd', 'abcde']\n"
     ]
    }
   ],
   "source": [
    "books = []\n",
    "while True:\n",
    "    name = input('Enter book name : ')\n",
    "    if name:\n",
    "        books.append(name)    #add item to list\n",
    "    else:\n",
    "        break\n",
    "print(\"These are your books\")\n",
    "print(books)"
   ]
  },
  {
   "cell_type": "code",
   "execution_count": null,
   "metadata": {},
   "outputs": [],
   "source": [
    "# fibonacci seris"
   ]
  }
 ],
 "metadata": {
  "kernelspec": {
   "display_name": "Python 3.9.12 ('base')",
   "language": "python",
   "name": "python3"
  },
  "language_info": {
   "codemirror_mode": {
    "name": "ipython",
    "version": 3
   },
   "file_extension": ".py",
   "mimetype": "text/x-python",
   "name": "python",
   "nbconvert_exporter": "python",
   "pygments_lexer": "ipython3",
   "version": "3.9.12"
  },
  "orig_nbformat": 4,
  "vscode": {
   "interpreter": {
    "hash": "20a9e06a1eee47c4abbed4ec8225ad91d78d9800d202b71b6b0a6e47016c6abd"
   }
  }
 },
 "nbformat": 4,
 "nbformat_minor": 2
}
